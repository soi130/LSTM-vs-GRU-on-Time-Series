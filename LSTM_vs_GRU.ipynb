{
 "cells": [
  {
   "cell_type": "markdown",
   "id": "2d08c4b8-0539-4e32-aa4a-3d295e7d4c99",
   "metadata": {},
   "source": [
    "# Intro\n",
    "\n",
    "This is an attempt to learn TensorFlow2 to predict time series data. This note book is a comparision between LSTM and GRU in default parameter just to compare the accuracy of the models.\n",
    "\n",
    "I use this Youtube vdo https://www.youtube.com/watch?v=c0k-YLQGKjY as a concept. However, the code and interpretations are all my writing."
   ]
  },
  {
   "cell_type": "code",
   "execution_count": 1,
   "id": "a91b6bdb-7e7a-4ce8-9035-0982a62912fe",
   "metadata": {},
   "outputs": [],
   "source": [
    "import tensorflow as tf\n",
    "import os\n",
    "import pandas as pd\n",
    "import numpy as np\n",
    "\n",
    "from sklearn.metrics import mean_squared_error as mse \n"
   ]
  },
  {
   "cell_type": "code",
   "execution_count": 2,
   "id": "3adf6530-da5e-484a-8f2b-2ed563b250d2",
   "metadata": {},
   "outputs": [],
   "source": [
    "# prepare the data\n",
    "zip_path = tf.keras.utils.get_file(\n",
    "    origin='https://storage.googleapis.com/tensorflow/tf-keras-datasets/jena_climate_2009_2016.csv.zip',\n",
    "    fname='jena_climate_2009_2016.csv.zip',\n",
    "    extract=True\n",
    ")\n",
    "csv_path, _ = os.path.splitext(zip_path)"
   ]
  },
  {
   "cell_type": "code",
   "execution_count": 3,
   "id": "ce2007fe-ef52-4330-a4a8-6fdbbdd16f8d",
   "metadata": {},
   "outputs": [
    {
     "data": {
      "text/html": [
       "<div>\n",
       "<style scoped>\n",
       "    .dataframe tbody tr th:only-of-type {\n",
       "        vertical-align: middle;\n",
       "    }\n",
       "\n",
       "    .dataframe tbody tr th {\n",
       "        vertical-align: top;\n",
       "    }\n",
       "\n",
       "    .dataframe thead th {\n",
       "        text-align: right;\n",
       "    }\n",
       "</style>\n",
       "<table border=\"1\" class=\"dataframe\">\n",
       "  <thead>\n",
       "    <tr style=\"text-align: right;\">\n",
       "      <th></th>\n",
       "      <th>Date Time</th>\n",
       "      <th>p (mbar)</th>\n",
       "      <th>T (degC)</th>\n",
       "      <th>Tpot (K)</th>\n",
       "      <th>Tdew (degC)</th>\n",
       "      <th>rh (%)</th>\n",
       "      <th>VPmax (mbar)</th>\n",
       "      <th>VPact (mbar)</th>\n",
       "      <th>VPdef (mbar)</th>\n",
       "      <th>sh (g/kg)</th>\n",
       "      <th>H2OC (mmol/mol)</th>\n",
       "      <th>rho (g/m**3)</th>\n",
       "      <th>wv (m/s)</th>\n",
       "      <th>max. wv (m/s)</th>\n",
       "      <th>wd (deg)</th>\n",
       "    </tr>\n",
       "  </thead>\n",
       "  <tbody>\n",
       "    <tr>\n",
       "      <th>5</th>\n",
       "      <td>01.01.2009 01:00:00</td>\n",
       "      <td>996.50</td>\n",
       "      <td>-8.05</td>\n",
       "      <td>265.38</td>\n",
       "      <td>-8.78</td>\n",
       "      <td>94.4</td>\n",
       "      <td>3.33</td>\n",
       "      <td>3.14</td>\n",
       "      <td>0.19</td>\n",
       "      <td>1.96</td>\n",
       "      <td>3.15</td>\n",
       "      <td>1307.86</td>\n",
       "      <td>0.21</td>\n",
       "      <td>0.63</td>\n",
       "      <td>192.7</td>\n",
       "    </tr>\n",
       "    <tr>\n",
       "      <th>11</th>\n",
       "      <td>01.01.2009 02:00:00</td>\n",
       "      <td>996.62</td>\n",
       "      <td>-8.88</td>\n",
       "      <td>264.54</td>\n",
       "      <td>-9.77</td>\n",
       "      <td>93.2</td>\n",
       "      <td>3.12</td>\n",
       "      <td>2.90</td>\n",
       "      <td>0.21</td>\n",
       "      <td>1.81</td>\n",
       "      <td>2.91</td>\n",
       "      <td>1312.25</td>\n",
       "      <td>0.25</td>\n",
       "      <td>0.63</td>\n",
       "      <td>190.3</td>\n",
       "    </tr>\n",
       "    <tr>\n",
       "      <th>17</th>\n",
       "      <td>01.01.2009 03:00:00</td>\n",
       "      <td>996.84</td>\n",
       "      <td>-8.81</td>\n",
       "      <td>264.59</td>\n",
       "      <td>-9.66</td>\n",
       "      <td>93.5</td>\n",
       "      <td>3.13</td>\n",
       "      <td>2.93</td>\n",
       "      <td>0.20</td>\n",
       "      <td>1.83</td>\n",
       "      <td>2.94</td>\n",
       "      <td>1312.18</td>\n",
       "      <td>0.18</td>\n",
       "      <td>0.63</td>\n",
       "      <td>167.2</td>\n",
       "    </tr>\n",
       "    <tr>\n",
       "      <th>23</th>\n",
       "      <td>01.01.2009 04:00:00</td>\n",
       "      <td>996.99</td>\n",
       "      <td>-9.05</td>\n",
       "      <td>264.34</td>\n",
       "      <td>-10.02</td>\n",
       "      <td>92.6</td>\n",
       "      <td>3.07</td>\n",
       "      <td>2.85</td>\n",
       "      <td>0.23</td>\n",
       "      <td>1.78</td>\n",
       "      <td>2.85</td>\n",
       "      <td>1313.61</td>\n",
       "      <td>0.10</td>\n",
       "      <td>0.38</td>\n",
       "      <td>240.0</td>\n",
       "    </tr>\n",
       "  </tbody>\n",
       "</table>\n",
       "</div>"
      ],
      "text/plain": [
       "              Date Time  p (mbar)  T (degC)  Tpot (K)  Tdew (degC)  rh (%)  \\\n",
       "5   01.01.2009 01:00:00    996.50     -8.05    265.38        -8.78    94.4   \n",
       "11  01.01.2009 02:00:00    996.62     -8.88    264.54        -9.77    93.2   \n",
       "17  01.01.2009 03:00:00    996.84     -8.81    264.59        -9.66    93.5   \n",
       "23  01.01.2009 04:00:00    996.99     -9.05    264.34       -10.02    92.6   \n",
       "\n",
       "    VPmax (mbar)  VPact (mbar)  VPdef (mbar)  sh (g/kg)  H2OC (mmol/mol)  \\\n",
       "5           3.33          3.14          0.19       1.96             3.15   \n",
       "11          3.12          2.90          0.21       1.81             2.91   \n",
       "17          3.13          2.93          0.20       1.83             2.94   \n",
       "23          3.07          2.85          0.23       1.78             2.85   \n",
       "\n",
       "    rho (g/m**3)  wv (m/s)  max. wv (m/s)  wd (deg)  \n",
       "5        1307.86      0.21           0.63     192.7  \n",
       "11       1312.25      0.25           0.63     190.3  \n",
       "17       1312.18      0.18           0.63     167.2  \n",
       "23       1313.61      0.10           0.38     240.0  "
      ]
     },
     "execution_count": 3,
     "metadata": {},
     "output_type": "execute_result"
    }
   ],
   "source": [
    "df = pd.read_csv(csv_path)\n",
    "df = df[5::6]\n",
    "\n",
    "df.head(4)"
   ]
  },
  {
   "cell_type": "markdown",
   "id": "c65b2bec-fe0c-4576-b130-cbc911db2f6f",
   "metadata": {},
   "source": [
    "The data has 10 minute interval which are too small of a change. Let's extract an hour by hour data by using (start:stop:step) slicing. Beginning with line 5 and each 6 line since they are the beginning of an hour."
   ]
  },
  {
   "cell_type": "code",
   "execution_count": 4,
   "id": "8a717429-3b2e-4733-8460-822ace43312f",
   "metadata": {},
   "outputs": [
    {
     "data": {
      "text/html": [
       "<div>\n",
       "<style scoped>\n",
       "    .dataframe tbody tr th:only-of-type {\n",
       "        vertical-align: middle;\n",
       "    }\n",
       "\n",
       "    .dataframe tbody tr th {\n",
       "        vertical-align: top;\n",
       "    }\n",
       "\n",
       "    .dataframe thead th {\n",
       "        text-align: right;\n",
       "    }\n",
       "</style>\n",
       "<table border=\"1\" class=\"dataframe\">\n",
       "  <thead>\n",
       "    <tr style=\"text-align: right;\">\n",
       "      <th></th>\n",
       "      <th>Date Time</th>\n",
       "      <th>p (mbar)</th>\n",
       "      <th>T (degC)</th>\n",
       "      <th>Tpot (K)</th>\n",
       "      <th>Tdew (degC)</th>\n",
       "      <th>rh (%)</th>\n",
       "      <th>VPmax (mbar)</th>\n",
       "      <th>VPact (mbar)</th>\n",
       "      <th>VPdef (mbar)</th>\n",
       "      <th>sh (g/kg)</th>\n",
       "      <th>H2OC (mmol/mol)</th>\n",
       "      <th>rho (g/m**3)</th>\n",
       "      <th>wv (m/s)</th>\n",
       "      <th>max. wv (m/s)</th>\n",
       "      <th>wd (deg)</th>\n",
       "    </tr>\n",
       "    <tr>\n",
       "      <th>Date Time</th>\n",
       "      <th></th>\n",
       "      <th></th>\n",
       "      <th></th>\n",
       "      <th></th>\n",
       "      <th></th>\n",
       "      <th></th>\n",
       "      <th></th>\n",
       "      <th></th>\n",
       "      <th></th>\n",
       "      <th></th>\n",
       "      <th></th>\n",
       "      <th></th>\n",
       "      <th></th>\n",
       "      <th></th>\n",
       "      <th></th>\n",
       "    </tr>\n",
       "  </thead>\n",
       "  <tbody>\n",
       "    <tr>\n",
       "      <th>2009-01-01 01:00:00</th>\n",
       "      <td>01.01.2009 01:00:00</td>\n",
       "      <td>996.50</td>\n",
       "      <td>-8.05</td>\n",
       "      <td>265.38</td>\n",
       "      <td>-8.78</td>\n",
       "      <td>94.4</td>\n",
       "      <td>3.33</td>\n",
       "      <td>3.14</td>\n",
       "      <td>0.19</td>\n",
       "      <td>1.96</td>\n",
       "      <td>3.15</td>\n",
       "      <td>1307.86</td>\n",
       "      <td>0.21</td>\n",
       "      <td>0.63</td>\n",
       "      <td>192.7</td>\n",
       "    </tr>\n",
       "    <tr>\n",
       "      <th>2009-01-01 02:00:00</th>\n",
       "      <td>01.01.2009 02:00:00</td>\n",
       "      <td>996.62</td>\n",
       "      <td>-8.88</td>\n",
       "      <td>264.54</td>\n",
       "      <td>-9.77</td>\n",
       "      <td>93.2</td>\n",
       "      <td>3.12</td>\n",
       "      <td>2.90</td>\n",
       "      <td>0.21</td>\n",
       "      <td>1.81</td>\n",
       "      <td>2.91</td>\n",
       "      <td>1312.25</td>\n",
       "      <td>0.25</td>\n",
       "      <td>0.63</td>\n",
       "      <td>190.3</td>\n",
       "    </tr>\n",
       "    <tr>\n",
       "      <th>2009-01-01 03:00:00</th>\n",
       "      <td>01.01.2009 03:00:00</td>\n",
       "      <td>996.84</td>\n",
       "      <td>-8.81</td>\n",
       "      <td>264.59</td>\n",
       "      <td>-9.66</td>\n",
       "      <td>93.5</td>\n",
       "      <td>3.13</td>\n",
       "      <td>2.93</td>\n",
       "      <td>0.20</td>\n",
       "      <td>1.83</td>\n",
       "      <td>2.94</td>\n",
       "      <td>1312.18</td>\n",
       "      <td>0.18</td>\n",
       "      <td>0.63</td>\n",
       "      <td>167.2</td>\n",
       "    </tr>\n",
       "  </tbody>\n",
       "</table>\n",
       "</div>"
      ],
      "text/plain": [
       "                               Date Time  p (mbar)  T (degC)  Tpot (K)  \\\n",
       "Date Time                                                                \n",
       "2009-01-01 01:00:00  01.01.2009 01:00:00    996.50     -8.05    265.38   \n",
       "2009-01-01 02:00:00  01.01.2009 02:00:00    996.62     -8.88    264.54   \n",
       "2009-01-01 03:00:00  01.01.2009 03:00:00    996.84     -8.81    264.59   \n",
       "\n",
       "                     Tdew (degC)  rh (%)  VPmax (mbar)  VPact (mbar)  \\\n",
       "Date Time                                                              \n",
       "2009-01-01 01:00:00        -8.78    94.4          3.33          3.14   \n",
       "2009-01-01 02:00:00        -9.77    93.2          3.12          2.90   \n",
       "2009-01-01 03:00:00        -9.66    93.5          3.13          2.93   \n",
       "\n",
       "                     VPdef (mbar)  sh (g/kg)  H2OC (mmol/mol)  rho (g/m**3)  \\\n",
       "Date Time                                                                     \n",
       "2009-01-01 01:00:00          0.19       1.96             3.15       1307.86   \n",
       "2009-01-01 02:00:00          0.21       1.81             2.91       1312.25   \n",
       "2009-01-01 03:00:00          0.20       1.83             2.94       1312.18   \n",
       "\n",
       "                     wv (m/s)  max. wv (m/s)  wd (deg)  \n",
       "Date Time                                               \n",
       "2009-01-01 01:00:00      0.21           0.63     192.7  \n",
       "2009-01-01 02:00:00      0.25           0.63     190.3  \n",
       "2009-01-01 03:00:00      0.18           0.63     167.2  "
      ]
     },
     "execution_count": 4,
     "metadata": {},
     "output_type": "execute_result"
    }
   ],
   "source": [
    "\n",
    "df.index = pd.to_datetime(df['Date Time'],format='%d.%m.%Y %H:%M:%S') #set and format datetime index\n",
    "\n",
    "df.head(3)"
   ]
  },
  {
   "cell_type": "markdown",
   "id": "28ca386b-e000-4291-8110-0d0b624e6e50",
   "metadata": {},
   "source": [
    "I would like to train a model using LSTM and GRU to predict the temperature(T (degC)) and pressure(p (mbar)). Let's plot them up, perhaps there are some interesting patterns."
   ]
  },
  {
   "cell_type": "code",
   "execution_count": 5,
   "id": "e0c4cb92-b398-447c-87cd-086a34668250",
   "metadata": {},
   "outputs": [
    {
     "data": {
      "text/plain": [
       "<AxesSubplot:xlabel='Date Time'>"
      ]
     },
     "execution_count": 5,
     "metadata": {},
     "output_type": "execute_result"
    },
    {
     "data": {
      "image/png": "[encoded data removed]",
      "text/plain": [
       "<Figure size 432x288 with 1 Axes>"
      ]
     },
     "metadata": {
      "needs_background": "light"
     },
     "output_type": "display_data"
    }
   ],
   "source": [
    "temp = df['T (degC)']\n",
    "temp.plot()"
   ]
  },
  {
   "cell_type": "code",
   "execution_count": 6,
   "id": "6271151f-9ea8-4c6a-9fb4-042221ca2252",
   "metadata": {},
   "outputs": [
    {
     "data": {
      "text/plain": [
       "<AxesSubplot:xlabel='Date Time'>"
      ]
     },
     "execution_count": 6,
     "metadata": {},
     "output_type": "execute_result"
    },
    {
     "data": {
      "image/png": "[encoded data removed]",
      "text/plain": [
       "<Figure size 432x288 with 1 Axes>"
      ]
     },
     "metadata": {
      "needs_background": "light"
     },
     "output_type": "display_data"
    }
   ],
   "source": [
    "p = df['p (mbar)']\n",
    "p.plot(mark_right=True)"
   ]
  },
  {
   "cell_type": "markdown",
   "id": "ed1f79a7-25c3-4f3b-8f41-43e0a8ef79a4",
   "metadata": {},
   "source": [
    "Temperature is highly cyclical while the peressure cycle is less prominent."
   ]
  },
  {
   "cell_type": "markdown",
   "id": "1a3face5-2a49-4b21-9f27-897dcd8d0307",
   "metadata": {},
   "source": [
    "### Preparation of inputs\n",
    "\n",
    "Although I can use features as much as I'd like, considering the computational expeses, I will stick with the lag features (targets lag) and time features (cyclical timestamp.)\n",
    "\n",
    "Noted for the cyclical timestamp is that the temperature and pressure behave in cyclical manner throughout the entire time span no matter how long the time duration is. Thus there should be some kind of 'cycle time description' instead of the linear time stamp we usually use since the linear time stamp will just keep increasing linearly.\n",
    "\n",
    "This lead us to the sin and cos of the time data.\n",
    "\n",
    "First let's transform timestamp to continuous seconds and tranform the seconds in to the sin and cos later."
   ]
  },
  {
   "cell_type": "code",
   "execution_count": 7,
   "id": "2f0476dd-04f2-447a-a178-aed3c98a4a7e",
   "metadata": {},
   "outputs": [
    {
     "data": {
      "text/html": [
       "<div>\n",
       "<style scoped>\n",
       "    .dataframe tbody tr th:only-of-type {\n",
       "        vertical-align: middle;\n",
       "    }\n",
       "\n",
       "    .dataframe tbody tr th {\n",
       "        vertical-align: top;\n",
       "    }\n",
       "\n",
       "    .dataframe thead th {\n",
       "        text-align: right;\n",
       "    }\n",
       "</style>\n",
       "<table border=\"1\" class=\"dataframe\">\n",
       "  <thead>\n",
       "    <tr style=\"text-align: right;\">\n",
       "      <th></th>\n",
       "      <th>p (mbar)</th>\n",
       "      <th>T (degC)</th>\n",
       "      <th>sec</th>\n",
       "    </tr>\n",
       "    <tr>\n",
       "      <th>Date Time</th>\n",
       "      <th></th>\n",
       "      <th></th>\n",
       "      <th></th>\n",
       "    </tr>\n",
       "  </thead>\n",
       "  <tbody>\n",
       "    <tr>\n",
       "      <th>2009-01-01 01:00:00</th>\n",
       "      <td>996.50</td>\n",
       "      <td>-8.05</td>\n",
       "      <td>1.230772e+09</td>\n",
       "    </tr>\n",
       "    <tr>\n",
       "      <th>2009-01-01 02:00:00</th>\n",
       "      <td>996.62</td>\n",
       "      <td>-8.88</td>\n",
       "      <td>1.230775e+09</td>\n",
       "    </tr>\n",
       "    <tr>\n",
       "      <th>2009-01-01 03:00:00</th>\n",
       "      <td>996.84</td>\n",
       "      <td>-8.81</td>\n",
       "      <td>1.230779e+09</td>\n",
       "    </tr>\n",
       "  </tbody>\n",
       "</table>\n",
       "</div>"
      ],
      "text/plain": [
       "                     p (mbar)  T (degC)           sec\n",
       "Date Time                                            \n",
       "2009-01-01 01:00:00    996.50     -8.05  1.230772e+09\n",
       "2009-01-01 02:00:00    996.62     -8.88  1.230775e+09\n",
       "2009-01-01 03:00:00    996.84     -8.81  1.230779e+09"
      ]
     },
     "execution_count": 7,
     "metadata": {},
     "output_type": "execute_result"
    }
   ],
   "source": [
    "p_temp_df = df.loc[:,['p (mbar)','T (degC)']]\n",
    "p_temp_df['sec'] = p_temp_df.index.map(pd.Timestamp.timestamp)\n",
    "\n",
    "p_temp_df.head(3)"
   ]
  },
  {
   "cell_type": "code",
   "execution_count": 8,
   "id": "d78f595c-b6fb-4142-8fa8-9a5a60376c6a",
   "metadata": {},
   "outputs": [
    {
     "data": {
      "text/html": [
       "<div>\n",
       "<style scoped>\n",
       "    .dataframe tbody tr th:only-of-type {\n",
       "        vertical-align: middle;\n",
       "    }\n",
       "\n",
       "    .dataframe tbody tr th {\n",
       "        vertical-align: top;\n",
       "    }\n",
       "\n",
       "    .dataframe thead th {\n",
       "        text-align: right;\n",
       "    }\n",
       "</style>\n",
       "<table border=\"1\" class=\"dataframe\">\n",
       "  <thead>\n",
       "    <tr style=\"text-align: right;\">\n",
       "      <th></th>\n",
       "      <th>p (mbar)</th>\n",
       "      <th>T (degC)</th>\n",
       "      <th>day_sin</th>\n",
       "      <th>day_cos</th>\n",
       "      <th>year_sin</th>\n",
       "      <th>year_cos</th>\n",
       "    </tr>\n",
       "    <tr>\n",
       "      <th>Date Time</th>\n",
       "      <th></th>\n",
       "      <th></th>\n",
       "      <th></th>\n",
       "      <th></th>\n",
       "      <th></th>\n",
       "      <th></th>\n",
       "    </tr>\n",
       "  </thead>\n",
       "  <tbody>\n",
       "    <tr>\n",
       "      <th>2009-01-01 01:00:00</th>\n",
       "      <td>996.50</td>\n",
       "      <td>-8.05</td>\n",
       "      <td>0.872637</td>\n",
       "      <td>0.488370</td>\n",
       "      <td>0.987030</td>\n",
       "      <td>0.160535</td>\n",
       "    </tr>\n",
       "    <tr>\n",
       "      <th>2009-01-01 02:00:00</th>\n",
       "      <td>996.62</td>\n",
       "      <td>-8.88</td>\n",
       "      <td>0.892222</td>\n",
       "      <td>0.451597</td>\n",
       "      <td>0.987048</td>\n",
       "      <td>0.160422</td>\n",
       "    </tr>\n",
       "  </tbody>\n",
       "</table>\n",
       "</div>"
      ],
      "text/plain": [
       "                     p (mbar)  T (degC)   day_sin   day_cos  year_sin  \\\n",
       "Date Time                                                               \n",
       "2009-01-01 01:00:00    996.50     -8.05  0.872637  0.488370  0.987030   \n",
       "2009-01-01 02:00:00    996.62     -8.88  0.892222  0.451597  0.987048   \n",
       "\n",
       "                     year_cos  \n",
       "Date Time                      \n",
       "2009-01-01 01:00:00  0.160535  \n",
       "2009-01-01 02:00:00  0.160422  "
      ]
     },
     "execution_count": 8,
     "metadata": {},
     "output_type": "execute_result"
    }
   ],
   "source": [
    "seconds_in_day = 60*60*24\n",
    "seconds_in_year = 364.2425 * seconds_in_day\n",
    "\n",
    "p_temp_df['day_sin'] = np.sin((p_temp_df['sec'])/seconds_in_day)\n",
    "p_temp_df['day_cos'] = np.cos((p_temp_df['sec'])/seconds_in_day)\n",
    "\n",
    "p_temp_df['year_sin'] = np.sin((p_temp_df['sec'])/seconds_in_year)\n",
    "p_temp_df['year_cos'] = np.cos((p_temp_df['sec'])/seconds_in_year)\n",
    "\n",
    "p_temp_df.drop('sec',axis=1, inplace=True)\n",
    "\n",
    "p_temp_df.head(2)"
   ]
  },
  {
   "cell_type": "markdown",
   "id": "6eb150ce-ceef-4b33-b99e-b4742fd8bcc2",
   "metadata": {},
   "source": [
    "The features seem to be ready let's define some helper function to preprocess the inputs."
   ]
  },
  {
   "cell_type": "code",
   "execution_count": 9,
   "id": "c1d53454-6c21-46bd-9580-ee85f9517808",
   "metadata": {},
   "outputs": [],
   "source": [
    "#split X and y by the window size. The window size is actually the interval the model are iterating through just like the rolling window.\n",
    "\n",
    "def df_to_X_y(df, window_size):\n",
    "    df_as_np = df.to_numpy()\n",
    "    X = []\n",
    "    y = []\n",
    "    for i in range(len(df_as_np)-window_size):\n",
    "        row = [r for r in df_as_np[i:i+window_size]]\n",
    "        X.append(row)\n",
    "        target = df_as_np[i+window_size][0], df_as_np[i+window_size][1] #now the target are pressure and temperature\n",
    "        y.append(target)\n",
    "     \n",
    "    return np.array(X), np.array(y)"
   ]
  },
  {
   "cell_type": "code",
   "execution_count": 10,
   "id": "7085d089-23bb-4e27-9feb-52e70d734ffb",
   "metadata": {},
   "outputs": [],
   "source": [
    "#Standard scaler for multi targets\n",
    "\n",
    "def double_target_s_scaler(array):\n",
    "    mean1 = np.mean(array[:,:,0]) #mean of only the pressure column\n",
    "    std1 = np.std(array[:,:,0]) #std of only the pressure column\n",
    "    mean2 = np.mean(array[:,:,1]) #mean of only the temperature column\n",
    "    std2 = np.std(array[:,:,1]) #std of only the temperature column\n",
    "    \n",
    "    array[:,:,0] = (array[:,:,0]-mean1)/std1 # minus the mean and divided by the std to scale the data\n",
    "    array[:,:,1] = (array[:,:,1]-mean2)/std2 # minus the mean and divided by the std to scale the data\n",
    "    \n",
    "    return array #return the scaled data"
   ]
  },
  {
   "cell_type": "code",
   "execution_count": 11,
   "id": "2e8f4724-32dc-44a2-bdfc-4eed80ef5d1f",
   "metadata": {},
   "outputs": [],
   "source": [
    "# function to slice the data into train/test/val\n",
    "\n",
    "def tvt_slice(X,y,train_period,val_period):\n",
    "    X_train, y_train = X[:train_period], y[:train_period]\n",
    "    X_val, y_val = X[train_period:val_period], y[train_period:val_period]\n",
    "    X_test, y_test = X[val_period:], y[val_period:]\n",
    "    \n",
    "    return X_train,y_train,X_val,y_val,X_test,y_test"
   ]
  },
  {
   "cell_type": "code",
   "execution_count": 12,
   "id": "30c02583-fa3a-4abc-807b-a5721857c0da",
   "metadata": {},
   "outputs": [],
   "source": [
    "X_all, y_all = df_to_X_y(p_temp_df,window_size=7) #rolling window of 7 periods per window"
   ]
  },
  {
   "cell_type": "code",
   "execution_count": 13,
   "id": "53ce5eb5-2842-4cc3-bd84-57c836b3dfe1",
   "metadata": {},
   "outputs": [
    {
     "data": {
      "text/plain": [
       "((70084, 7, 6), (70084, 2))"
      ]
     },
     "execution_count": 13,
     "metadata": {},
     "output_type": "execute_result"
    }
   ],
   "source": [
    "X_all.shape, y_all.shape"
   ]
  },
  {
   "cell_type": "markdown",
   "id": "5d5fc4a9-12d6-46d8-95a6-18fb7c557a1d",
   "metadata": {},
   "source": [
    "There are 70084 windows for our models to train on. Let's split them into 60000 training 5000 validation and the rest (5084) to be testing."
   ]
  },
  {
   "cell_type": "code",
   "execution_count": 14,
   "id": "8b169970-5930-4d53-bb49-adff470b17d7",
   "metadata": {},
   "outputs": [],
   "source": [
    "X_all = double_target_s_scaler(X_all)"
   ]
  },
  {
   "cell_type": "code",
   "execution_count": 15,
   "id": "bf9356ab-1446-44dc-9a84-ecacd7c5f4e5",
   "metadata": {},
   "outputs": [
    {
     "data": {
      "text/plain": [
       "((60000, 7, 6), (60000, 2), (5000, 7, 6), (5000, 2), (5084, 7, 6), (5084, 2))"
      ]
     },
     "execution_count": 15,
     "metadata": {},
     "output_type": "execute_result"
    }
   ],
   "source": [
    "X_train,y_train,X_val,y_val,X_test,y_test = tvt_slice(X_all,y_all,60000,65000)\n",
    "\n",
    "X_train.shape,y_train.shape,X_val.shape,y_val.shape,X_test.shape,y_test.shape"
   ]
  },
  {
   "cell_type": "markdown",
   "id": "f0348ba9-d260-4a5b-8e82-f36c9b2b9aee",
   "metadata": {},
   "source": [
    "Now we have train/val/test ready, Let's try to create a function that would compare many models at once.\n",
    "\n",
    "First we need to prepare the models. I will use LSTM and GRU for this comparision. All the model will use the default hyperparameters for simplicity."
   ]
  },
  {
   "cell_type": "code",
   "execution_count": 16,
   "id": "f9d9eab0-bc70-464a-b540-8f1b05caaf44",
   "metadata": {},
   "outputs": [],
   "source": [
    "from tensorflow.keras.models import Sequential # to make a sequential model\n",
    "from tensorflow.keras.layers import * # the sequences used in the model\n",
    "from tensorflow.keras.callbacks import ModelCheckpoint # to save the model state\n",
    "from tensorflow.keras.losses import MeanSquaredError # loss function used\n",
    "from tensorflow.keras.metrics import  RootMeanSquaredError # metrics used\n",
    "from tensorflow.keras.optimizers import Adam #ADAM stochastic gradient descent algo."
   ]
  },
  {
   "cell_type": "code",
   "execution_count": 42,
   "id": "63029ac9-3a74-428c-a709-934fb5cee35c",
   "metadata": {},
   "outputs": [],
   "source": [
    "lstm = Sequential(name='LSTM_test')\n",
    "lstm.add(InputLayer(input_shape=(7,6)))\n",
    "lstm.add(LSTM(units=64)) # 64 is arbitary number\n",
    "lstm.add(Dense(units=8,activation='relu')) #layer 2 of NN\n",
    "lstm.add(Dense(units=2,activation='linear')) #output layer 2 for both pressure and temperature\n",
    "\n",
    "gru = Sequential(name='GRU_Test')\n",
    "gru.add(InputLayer(input_shape=(7,6)))\n",
    "gru.add(GRU(units=64)) # 64 is arbitary number\n",
    "gru.add(Dense(units=8,activation='relu')) #layer 2 of NN\n",
    "gru.add(Dense(units=2,activation='linear')) #output layer 2 for both pressure and temperature"
   ]
  },
  {
   "cell_type": "code",
   "execution_count": 43,
   "id": "a1ed3d00-09a0-45dd-8501-5b03e42208c5",
   "metadata": {},
   "outputs": [
    {
     "name": "stdout",
     "output_type": "stream",
     "text": [
      "Model: \"LSTM_test\"\n",
      "_________________________________________________________________\n",
      "Layer (type)                 Output Shape              Param #   \n",
      "=================================================================\n",
      "lstm_1 (LSTM)                (None, 64)                18176     \n",
      "_________________________________________________________________\n",
      "dense_4 (Dense)              (None, 8)                 520       \n",
      "_________________________________________________________________\n",
      "dense_5 (Dense)              (None, 2)                 18        \n",
      "=================================================================\n",
      "Total params: 18,714\n",
      "Trainable params: 18,714\n",
      "Non-trainable params: 0\n",
      "_________________________________________________________________\n"
     ]
    }
   ],
   "source": [
    "lstm.summary()"
   ]
  },
  {
   "cell_type": "code",
   "execution_count": 44,
   "id": "022f2ef9-469c-4218-a9cb-91b90870fb6b",
   "metadata": {},
   "outputs": [
    {
     "name": "stdout",
     "output_type": "stream",
     "text": [
      "Model: \"GRU_Test\"\n",
      "_________________________________________________________________\n",
      "Layer (type)                 Output Shape              Param #   \n",
      "=================================================================\n",
      "gru_1 (GRU)                  (None, 64)                13824     \n",
      "_________________________________________________________________\n",
      "dense_6 (Dense)              (None, 8)                 520       \n",
      "_________________________________________________________________\n",
      "dense_7 (Dense)              (None, 2)                 18        \n",
      "=================================================================\n",
      "Total params: 14,362\n",
      "Trainable params: 14,362\n",
      "Non-trainable params: 0\n",
      "_________________________________________________________________\n"
     ]
    }
   ],
   "source": [
    "gru.summary()"
   ]
  },
  {
   "cell_type": "markdown",
   "id": "b129b20f-4eea-4c92-8366-5ee17c9f0917",
   "metadata": {},
   "source": [
    "Two models are ready. Let's create the modelcheckpoint insatance to save the best model in training."
   ]
  },
  {
   "cell_type": "code",
   "execution_count": 45,
   "id": "a1acf73d-f87f-4400-97ce-3958fb1b0be1",
   "metadata": {},
   "outputs": [],
   "source": [
    "cp_lstm = ModelCheckpoint(filepath='lstm_test/',save_best_only=True)\n",
    "cp_gru = ModelCheckpoint(filepath='gru_test/',save_best_only=True)"
   ]
  },
  {
   "cell_type": "markdown",
   "id": "ec4871af-c7df-49fc-8e4f-d405575a1a3e",
   "metadata": {},
   "source": [
    "Compile the model"
   ]
  },
  {
   "cell_type": "code",
   "execution_count": 46,
   "id": "6a7c79a6-9844-4edc-930e-0310c971b920",
   "metadata": {},
   "outputs": [],
   "source": [
    "lstm.compile(optimizer=Adam(),loss=MeanSquaredError(),metrics=[RootMeanSquaredError()]) \n",
    "gru.compile(optimizer=Adam(),loss=MeanSquaredError(),metrics=[RootMeanSquaredError()]) "
   ]
  },
  {
   "cell_type": "markdown",
   "id": "7333add7-18d1-4809-a8bf-f6abe991c9b0",
   "metadata": {},
   "source": [
    "Now the models are ready. Let's define a function to train and compare them togeter."
   ]
  },
  {
   "cell_type": "code",
   "execution_count": 47,
   "id": "7a4bd811-b5ae-421e-b1c4-f61aa2897119",
   "metadata": {},
   "outputs": [],
   "source": [
    "# a function to train and compare all the model all at once.\n",
    "\n",
    "def models_compare(model_list,X_train,y_train,epoch,validation_data_tuple,X_test,y_test):\n",
    "    df = pd.DataFrame()\n",
    "    df['actual_0'] = y_test[:,[0]].flatten()\n",
    "    df['actual_1'] = y_test[:,[1]].flatten()\n",
    "    metric_dic = {}\n",
    "                                \n",
    "    for i, model in enumerate(model_list):\n",
    "        cp = ModelCheckpoint(filepath='model_list_{}/'.format(i),save_best_only=True)\n",
    "        \n",
    "        model.fit(X_train,y_train,epochs=epoch,validation_data=validation_data_tuple,callbacks=[cp])\n",
    "        pred = model.predict(X_test)     \n",
    "        df['model_{}_predict_0'.format(i)] = pred[:,[0]].flatten()\n",
    "        df['model_{}_predict_1'.format(i)] = pred[:,[1]].flatten()\n",
    "        metric_dic['model_{}_MSE'.format(i)]= mse(y_test,pred)\n",
    "                            \n",
    "    return df, metric_dic"
   ]
  },
  {
   "cell_type": "code",
   "execution_count": 48,
   "id": "a338fcba-0c05-4497-83b1-0a313c695aa1",
   "metadata": {
    "collapsed": true,
    "jupyter": {
     "outputs_hidden": true
    },
    "tags": []
   },
   "outputs": [
    {
     "name": "stdout",
     "output_type": "stream",
     "text": [
      "Train on 60000 samples, validate on 5000 samples\n",
      "Epoch 1/10\n"
     ]
    },
    {
     "name": "stderr",
     "output_type": "stream",
     "text": [
      "2022-05-08 23:07:55.373089: W tensorflow/core/grappler/optimizers/implementation_selector.cc:310] Skipping optimization due to error while loading function libraries: Invalid argument: Functions '__inference___backward_standard_lstm_4424_4895' and '__inference___backward_standard_lstm_4424_4895_specialized_for_StatefulPartitionedCall_at___inference_distributed_function_5003' both implement 'lstm_d1547ce3-e8a9-4c92-8163-9cb7ff59d62f' but their signatures do not match.\n"
     ]
    },
    {
     "name": "stdout",
     "output_type": "stream",
     "text": [
      "59968/60000 [============================>.] - ETA: 0s - loss: 203361.2924 - root_mean_squared_error: 450.9558"
     ]
    },
    {
     "name": "stderr",
     "output_type": "stream",
     "text": [
      "2022-05-08 23:08:25.828639: W tensorflow/core/grappler/optimizers/implementation_selector.cc:310] Skipping optimization due to error while loading function libraries: Invalid argument: Functions '__inference_standard_lstm_10821' and '__inference_standard_lstm_10821_specialized_for_LSTM_test_lstm_1_StatefulPartitionedCall_at___inference_distributed_function_11171' both implement 'lstm_9dfea0d6-faf8-4a40-9d21-8750d57755ac' but their signatures do not match.\n",
      "2022-05-08 23:08:28.685691: W tensorflow/python/util/util.cc:299] Sets are not currently considered sequences, but this may change in the future, so consider avoiding using them.\n"
     ]
    },
    {
     "name": "stdout",
     "output_type": "stream",
     "text": [
      "WARNING:tensorflow:From /opt/anaconda3/envs/py3-TF2.0/lib/python3.7/site-packages/tensorflow_core/python/ops/resource_variable_ops.py:1781: calling BaseResourceVariable.__init__ (from tensorflow.python.ops.resource_variable_ops) with constraint is deprecated and will be removed in a future version.\n",
      "Instructions for updating:\n",
      "If using Keras pass *_constraint arguments to layers.\n",
      "INFO:tensorflow:Assets written to: model_list_0/assets\n",
      "60000/60000 [==============================] - 35s 587us/sample - loss: 203254.6321 - root_mean_squared_error: 450.8375 - val_loss: 3315.6628 - val_root_mean_squared_error: 57.5818\n",
      "Epoch 2/10\n",
      "59968/60000 [============================>.] - ETA: 0s - loss: 312.2676 - root_mean_squared_error: 17.6711INFO:tensorflow:Assets written to: model_list_0/assets\n",
      "60000/60000 [==============================] - 34s 561us/sample - loss: 312.1431 - root_mean_squared_error: 17.6676 - val_loss: 69.6890 - val_root_mean_squared_error: 8.3480\n",
      "Epoch 3/10\n",
      "59872/60000 [============================>.] - ETA: 0s - loss: 70.3175 - root_mean_squared_error: 8.3856INFO:tensorflow:Assets written to: model_list_0/assets\n",
      "60000/60000 [==============================] - 33s 550us/sample - loss: 70.3005 - root_mean_squared_error: 8.3845 - val_loss: 67.1231 - val_root_mean_squared_error: 8.1929\n",
      "Epoch 4/10\n",
      "59936/60000 [============================>.] - ETA: 0s - loss: 50.7894 - root_mean_squared_error: 7.1267INFO:tensorflow:Assets written to: model_list_0/assets\n",
      "60000/60000 [==============================] - 57s 950us/sample - loss: 50.7691 - root_mean_squared_error: 7.1252 - val_loss: 23.9979 - val_root_mean_squared_error: 4.8988\n",
      "Epoch 5/10\n",
      "59968/60000 [============================>.] - ETA: 0s - loss: 37.6543 - root_mean_squared_error: 6.1363INFO:tensorflow:Assets written to: model_list_0/assets\n",
      "60000/60000 [==============================] - 37s 623us/sample - loss: 37.6523 - root_mean_squared_error: 6.1361 - val_loss: 22.9129 - val_root_mean_squared_error: 4.7867\n",
      "Epoch 6/10\n",
      "59936/60000 [============================>.] - ETA: 0s - loss: 37.3828 - root_mean_squared_error: 6.1141INFO:tensorflow:Assets written to: model_list_0/assets\n",
      "60000/60000 [==============================] - 41s 686us/sample - loss: 37.3771 - root_mean_squared_error: 6.1137 - val_loss: 22.3618 - val_root_mean_squared_error: 4.7288\n",
      "Epoch 7/10\n",
      "60000/60000 [==============================] - 39s 656us/sample - loss: 37.0990 - root_mean_squared_error: 6.0909 - val_loss: 23.7416 - val_root_mean_squared_error: 4.8725\n",
      "Epoch 8/10\n",
      "60000/60000 [==============================] - 40s 674us/sample - loss: 36.7905 - root_mean_squared_error: 6.0655 - val_loss: 22.8859 - val_root_mean_squared_error: 4.7839\n",
      "Epoch 9/10\n",
      "59936/60000 [============================>.] - ETA: 0s - loss: 33.4670 - root_mean_squared_error: 5.7851INFO:tensorflow:Assets written to: model_list_0/assets\n",
      "60000/60000 [==============================] - 53s 879us/sample - loss: 33.4610 - root_mean_squared_error: 5.7845 - val_loss: 14.6397 - val_root_mean_squared_error: 3.8262\n",
      "Epoch 10/10\n",
      "59904/60000 [============================>.] - ETA: 0s - loss: 16.2773 - root_mean_squared_error: 4.0345INFO:tensorflow:Assets written to: model_list_0/assets\n",
      "60000/60000 [==============================] - 40s 672us/sample - loss: 16.2684 - root_mean_squared_error: 4.0334 - val_loss: 2.9042 - val_root_mean_squared_error: 1.7042\n"
     ]
    },
    {
     "name": "stderr",
     "output_type": "stream",
     "text": [
      "2022-05-08 23:14:44.917594: W tensorflow/core/grappler/optimizers/implementation_selector.cc:310] Skipping optimization due to error while loading function libraries: Invalid argument: Functions '__inference_standard_lstm_120558' and '__inference_standard_lstm_120558_specialized_for_LSTM_test_lstm_1_StatefulPartitionedCall_at___inference_distributed_function_120867' both implement 'lstm_1292365e-2378-449b-9be2-a77e5407339b' but their signatures do not match.\n"
     ]
    },
    {
     "name": "stdout",
     "output_type": "stream",
     "text": [
      "Train on 60000 samples, validate on 5000 samples\n",
      "Epoch 1/10\n"
     ]
    },
    {
     "name": "stderr",
     "output_type": "stream",
     "text": [
      "2022-05-08 23:14:47.194324: W tensorflow/core/grappler/optimizers/implementation_selector.cc:310] Skipping optimization due to error while loading function libraries: Invalid argument: Functions '__inference___backward_standard_gru_122831_123207_specialized_for_StatefulPartitionedCall_at___inference_distributed_function_123310' and '__inference___backward_cudnn_gru_with_fallback_122586_122724' both implement 'gru_5aeeac3d-6633-40cf-863c-5b04227d54bc' but their signatures do not match.\n"
     ]
    },
    {
     "name": "stdout",
     "output_type": "stream",
     "text": [
      "59936/60000 [============================>.] - ETA: 0s - loss: 189728.6504 - root_mean_squared_error: 435.5788"
     ]
    },
    {
     "name": "stderr",
     "output_type": "stream",
     "text": [
      "2022-05-08 23:15:22.068834: W tensorflow/core/grappler/optimizers/implementation_selector.cc:310] Skipping optimization due to error while loading function libraries: Invalid argument: Functions '__inference_standard_gru_129131' and '__inference_standard_gru_129131_specialized_for_GRU_Test_gru_1_StatefulPartitionedCall_at___inference_distributed_function_129416' both implement 'gru_4735f701-1874-4152-8620-de9869f27c75' but their signatures do not match.\n"
     ]
    },
    {
     "name": "stdout",
     "output_type": "stream",
     "text": [
      "INFO:tensorflow:Assets written to: model_list_1/assets\n",
      "60000/60000 [==============================] - 40s 660us/sample - loss: 189528.8137 - root_mean_squared_error: 435.3493 - val_loss: 2440.8284 - val_root_mean_squared_error: 49.4047\n",
      "Epoch 2/10\n",
      "59968/60000 [============================>.] - ETA: 0s - loss: 241.3435 - root_mean_squared_error: 15.5352INFO:tensorflow:Assets written to: model_list_1/assets\n",
      "60000/60000 [==============================] - 34s 563us/sample - loss: 241.2451 - root_mean_squared_error: 15.5321 - val_loss: 67.7495 - val_root_mean_squared_error: 8.2310\n",
      "Epoch 3/10\n",
      "60000/60000 [==============================] - 33s 549us/sample - loss: 70.3547 - root_mean_squared_error: 8.3878 - val_loss: 70.9564 - val_root_mean_squared_error: 8.4236\n",
      "Epoch 4/10\n",
      "59904/60000 [============================>.] - ETA: 0s - loss: 58.5050 - root_mean_squared_error: 7.6489INFO:tensorflow:Assets written to: model_list_1/assets\n",
      "60000/60000 [==============================] - 44s 731us/sample - loss: 58.4737 - root_mean_squared_error: 7.6468 - val_loss: 21.8497 - val_root_mean_squared_error: 4.6744\n",
      "Epoch 5/10\n",
      "60000/60000 [==============================] - 37s 620us/sample - loss: 36.6947 - root_mean_squared_error: 6.0576 - val_loss: 22.1488 - val_root_mean_squared_error: 4.7062\n",
      "Epoch 6/10\n",
      "60000/60000 [==============================] - 37s 624us/sample - loss: 36.3105 - root_mean_squared_error: 6.0258 - val_loss: 23.2847 - val_root_mean_squared_error: 4.8254\n",
      "Epoch 7/10\n",
      "59936/60000 [============================>.] - ETA: 0s - loss: 32.8411 - root_mean_squared_error: 5.7307INFO:tensorflow:Assets written to: model_list_1/assets\n",
      "60000/60000 [==============================] - 38s 639us/sample - loss: 32.8262 - root_mean_squared_error: 5.7294 - val_loss: 15.1203 - val_root_mean_squared_error: 3.8885\n",
      "Epoch 8/10\n",
      "59968/60000 [============================>.] - ETA: 0s - loss: 13.8253 - root_mean_squared_error: 3.7182INFO:tensorflow:Assets written to: model_list_1/assets\n",
      "60000/60000 [==============================] - 49s 817us/sample - loss: 13.8196 - root_mean_squared_error: 3.7175 - val_loss: 1.9247 - val_root_mean_squared_error: 1.3873\n",
      "Epoch 9/10\n",
      "59872/60000 [============================>.] - ETA: 0s - loss: 2.7814 - root_mean_squared_error: 1.6678INFO:tensorflow:Assets written to: model_list_1/assets\n",
      "60000/60000 [==============================] - 34s 564us/sample - loss: 2.7807 - root_mean_squared_error: 1.6675 - val_loss: 0.6713 - val_root_mean_squared_error: 0.8193\n",
      "Epoch 10/10\n",
      "59904/60000 [============================>.] - ETA: 0s - loss: 1.1004 - root_mean_squared_error: 1.0490INFO:tensorflow:Assets written to: model_list_1/assets\n",
      "60000/60000 [==============================] - 34s 570us/sample - loss: 1.0995 - root_mean_squared_error: 1.0486 - val_loss: 0.4198 - val_root_mean_squared_error: 0.6480\n"
     ]
    },
    {
     "name": "stderr",
     "output_type": "stream",
     "text": [
      "2022-05-08 23:21:06.895917: W tensorflow/core/grappler/optimizers/implementation_selector.cc:310] Skipping optimization due to error while loading function libraries: Invalid argument: Functions '__inference_cudnn_gru_with_fallback_226534' and '__inference_standard_gru_226445_specialized_for_GRU_Test_gru_1_StatefulPartitionedCall_at___inference_distributed_function_226689' both implement 'gru_6682b7fa-4324-41e9-a4bb-335f5417ae6f' but their signatures do not match.\n"
     ]
    }
   ],
   "source": [
    "test_df, test_dic = models_compare(model_list=[lstm,gru],\n",
    "                                   X_train=X_train,\n",
    "                                   y_train=y_train,\n",
    "                                   epoch=10,\n",
    "                                   validation_data_tuple=(X_val,y_val),\n",
    "                                   X_test=X_test,\n",
    "                                   y_test=y_test)"
   ]
  },
  {
   "cell_type": "code",
   "execution_count": 50,
   "id": "411a5373-c0ed-4334-b780-f4f7f4261cc7",
   "metadata": {},
   "outputs": [
    {
     "data": {
      "text/html": [
       "<div>\n",
       "<style scoped>\n",
       "    .dataframe tbody tr th:only-of-type {\n",
       "        vertical-align: middle;\n",
       "    }\n",
       "\n",
       "    .dataframe tbody tr th {\n",
       "        vertical-align: top;\n",
       "    }\n",
       "\n",
       "    .dataframe thead th {\n",
       "        text-align: right;\n",
       "    }\n",
       "</style>\n",
       "<table border=\"1\" class=\"dataframe\">\n",
       "  <thead>\n",
       "    <tr style=\"text-align: right;\">\n",
       "      <th></th>\n",
       "      <th>actual_0</th>\n",
       "      <th>actual_1</th>\n",
       "      <th>model_0_predict_0</th>\n",
       "      <th>model_0_predict_1</th>\n",
       "      <th>model_1_predict_0</th>\n",
       "      <th>model_1_predict_1</th>\n",
       "    </tr>\n",
       "  </thead>\n",
       "  <tbody>\n",
       "    <tr>\n",
       "      <th>0</th>\n",
       "      <td>982.43</td>\n",
       "      <td>12.93</td>\n",
       "      <td>981.827576</td>\n",
       "      <td>14.272683</td>\n",
       "      <td>982.713196</td>\n",
       "      <td>12.833740</td>\n",
       "    </tr>\n",
       "    <tr>\n",
       "      <th>1</th>\n",
       "      <td>982.68</td>\n",
       "      <td>12.43</td>\n",
       "      <td>981.872742</td>\n",
       "      <td>13.747631</td>\n",
       "      <td>982.821594</td>\n",
       "      <td>12.270149</td>\n",
       "    </tr>\n",
       "    <tr>\n",
       "      <th>2</th>\n",
       "      <td>983.02</td>\n",
       "      <td>12.17</td>\n",
       "      <td>982.167664</td>\n",
       "      <td>13.234270</td>\n",
       "      <td>983.148499</td>\n",
       "      <td>11.758919</td>\n",
       "    </tr>\n",
       "    <tr>\n",
       "      <th>3</th>\n",
       "      <td>983.59</td>\n",
       "      <td>11.55</td>\n",
       "      <td>982.543030</td>\n",
       "      <td>12.795243</td>\n",
       "      <td>983.459778</td>\n",
       "      <td>11.598900</td>\n",
       "    </tr>\n",
       "  </tbody>\n",
       "</table>\n",
       "</div>"
      ],
      "text/plain": [
       "   actual_0  actual_1  model_0_predict_0  model_0_predict_1  \\\n",
       "0    982.43     12.93         981.827576          14.272683   \n",
       "1    982.68     12.43         981.872742          13.747631   \n",
       "2    983.02     12.17         982.167664          13.234270   \n",
       "3    983.59     11.55         982.543030          12.795243   \n",
       "\n",
       "   model_1_predict_0  model_1_predict_1  \n",
       "0         982.713196          12.833740  \n",
       "1         982.821594          12.270149  \n",
       "2         983.148499          11.758919  \n",
       "3         983.459778          11.598900  "
      ]
     },
     "execution_count": 50,
     "metadata": {},
     "output_type": "execute_result"
    }
   ],
   "source": [
    "test_df.head(4)"
   ]
  },
  {
   "cell_type": "code",
   "execution_count": 51,
   "id": "5956a348-bd9c-41c2-9e42-3373b23bc974",
   "metadata": {},
   "outputs": [
    {
     "data": {
      "text/plain": [
       "{'model_0_MSE': 9.230267524314705, 'model_1_MSE': 0.722050879467579}"
      ]
     },
     "execution_count": 51,
     "metadata": {},
     "output_type": "execute_result"
    }
   ],
   "source": [
    "test_dic"
   ]
  },
  {
   "cell_type": "markdown",
   "id": "6dc3565b-6cdd-4a60-b73f-b018cb92435e",
   "metadata": {},
   "source": [
    "in this particular setting GRE seems to perform better compared to LSTM. MSE is a lot lower in GRU and the training time is actually faster.\n",
    "\n",
    "Let's plot the prediction and actual data."
   ]
  },
  {
   "cell_type": "code",
   "execution_count": 91,
   "id": "3d63e18f-5b75-4592-83ee-46f857521828",
   "metadata": {},
   "outputs": [
    {
     "data": {
      "image/png": "[encoded data removed]",
      "text/plain": [
       "<Figure size 720x432 with 2 Axes>"
      ]
     },
     "metadata": {
      "needs_background": "light"
     },
     "output_type": "display_data"
    }
   ],
   "source": [
    "import matplotlib.pyplot as plt\n",
    "\n",
    "start = 5024\n",
    "end = 5084\n",
    "\n",
    "fig,axs = plt.subplots(nrows=2, ncols=1,sharex = True,figsize=(10, 6))\n",
    "axs = axs.ravel()\n",
    "axs[1].set_title('Preasure (Mbar)')\n",
    "axs[1].plot(test_df['actual_0'][start:end],label='actual Preasure')\n",
    "axs[1].plot(test_df['model_0_predict_0'][start:end],label='LSTM Prediction')\n",
    "axs[1].plot(test_df['model_1_predict_0'][start:end],label='GRU Prediction')\n",
    "axs[1].legend()\n",
    "\n",
    "axs[0].set_title('Temperature (DegC)')\n",
    "axs[0].plot(test_df['actual_1'][start:end],label='actual Temperature')\n",
    "axs[0].plot(test_df['model_0_predict_1'][start:end],label='LSTM Prediction')\n",
    "axs[0].plot(test_df['model_1_predict_1'][start:end],label='GRU Prediction')\n",
    "axs[0].legend()\n",
    "\n",
    "fig.tight_layout()\n",
    "\n",
    "plt.show()"
   ]
  },
  {
   "cell_type": "markdown",
   "id": "d1803529-76e5-4d4a-ba6d-6407c637c545",
   "metadata": {},
   "source": [
    "### Summary\n",
    "\n",
    "Temperature prediction from LSTM seems to be a lot worse compare to the GRU (with same hyperparameter configuration). In this particular, oversimplify, case GRU is better at both accuracy and training time."
   ]
  },
  {
   "cell_type": "code",
   "execution_count": null,
   "id": "840e7f4b-691c-4244-95ec-8ea1d0724229",
   "metadata": {},
   "outputs": [],
   "source": []
  }
 ],
 "metadata": {
  "kernelspec": {
   "display_name": "py3-TF2.0",
   "language": "python",
   "name": "py3-tf2.0"
  },
  "language_info": {
   "codemirror_mode": {
    "name": "ipython",
    "version": 3
   },
   "file_extension": ".py",
   "mimetype": "text/x-python",
   "name": "python",
   "nbconvert_exporter": "python",
   "pygments_lexer": "ipython3",
   "version": "3.7.11"
  }
 },
 "nbformat": 4,
 "nbformat_minor": 5
}
